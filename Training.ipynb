{
 "cells": [
  {
   "cell_type": "code",
   "execution_count": 1,
   "id": "9f98a292",
   "metadata": {},
   "outputs": [
    {
     "ename": "ModuleNotFoundError",
     "evalue": "No module named 'numpy'",
     "output_type": "error",
     "traceback": [
      "\u001b[0;31m---------------------------------------------------------------------------\u001b[0m",
      "\u001b[0;31mModuleNotFoundError\u001b[0m                       Traceback (most recent call last)",
      "Cell \u001b[0;32mIn[1], line 1\u001b[0m\n\u001b[0;32m----> 1\u001b[0m \u001b[39mimport\u001b[39;00m \u001b[39mnumpy\u001b[39;00m \u001b[39mas\u001b[39;00m \u001b[39mnp\u001b[39;00m\n\u001b[1;32m      2\u001b[0m \u001b[39mimport\u001b[39;00m \u001b[39mpandas\u001b[39;00m \u001b[39mas\u001b[39;00m \u001b[39mpd\u001b[39;00m\n\u001b[1;32m      3\u001b[0m \u001b[39mimport\u001b[39;00m \u001b[39mmatplotlib\u001b[39;00m\u001b[39m.\u001b[39;00m\u001b[39mpyplot\u001b[39;00m \u001b[39mas\u001b[39;00m \u001b[39mplt\u001b[39;00m\n",
      "\u001b[0;31mModuleNotFoundError\u001b[0m: No module named 'numpy'"
     ]
    }
   ],
   "source": [
    "import numpy as np\n",
    "import pandas as pd\n",
    "import matplotlib.pyplot as plt\n",
    "import seaborn as sns\n",
    "import warnings\n",
    "warnings.filterwarnings('ignore')\n",
    "%matplotlib inline"
   ]
  },
  {
   "cell_type": "code",
   "execution_count": null,
   "id": "15c979ce",
   "metadata": {},
   "outputs": [
    {
     "data": {
      "text/plain": [
       "(7132, 36)"
      ]
     },
     "execution_count": 10,
     "metadata": {},
     "output_type": "execute_result"
    }
   ],
   "source": [
    "UST1=pd.read_csv('/Users/23behmen_t/Downloads/UST Salesforce Data.csv')\n",
    "UST1.shape"
   ]
  },
  {
   "cell_type": "code",
   "execution_count": null,
   "id": "b799d5ab",
   "metadata": {},
   "outputs": [
    {
     "data": {
      "text/plain": [
       "(100, 13)"
      ]
     },
     "execution_count": 9,
     "metadata": {},
     "output_type": "execute_result"
    }
   ],
   "source": [
    "UST2=pd.read_csv('/Users/23behmen_t/Downloads/UST2.csv')\n",
    "UST2.shape"
   ]
  },
  {
   "cell_type": "code",
   "execution_count": null,
   "id": "df5531c2",
   "metadata": {},
   "outputs": [
    {
     "data": {
      "text/plain": [
       "(6891, 16)"
      ]
     },
     "execution_count": 22,
     "metadata": {},
     "output_type": "execute_result"
    }
   ],
   "source": [
    "UST=pd.read_csv('/Users/23behmen_t/Downloads/UST 22.csv')\n",
    "UST.shape"
   ]
  },
  {
   "cell_type": "code",
   "execution_count": null,
   "id": "60b95ed9",
   "metadata": {},
   "outputs": [
    {
     "data": {
      "text/plain": [
       "Index(['Project ID', 'Opportunity Owner', 'Account Name', 'Stage', ' Amount ',\n",
       "       'Expected Revenue', 'Probability', 'Service Category', 'Service Line',\n",
       "       'Stage Number', 'New Business', 'Account Type', 'Billing Type',\n",
       "       'MSA Signed', 'Unsolicited Proposal', 'Deliverable Type'],\n",
       "      dtype='object')"
      ]
     },
     "execution_count": 23,
     "metadata": {},
     "output_type": "execute_result"
    }
   ],
   "source": [
    "UST.columns"
   ]
  },
  {
   "cell_type": "code",
   "execution_count": null,
   "id": "630fb7a9",
   "metadata": {},
   "outputs": [
    {
     "data": {
      "text/plain": [
       "Project ID              6891\n",
       "Opportunity Owner        115\n",
       "Account Name             318\n",
       "Stage                     12\n",
       " Amount                 3469\n",
       "Expected Revenue        2960\n",
       "Probability                2\n",
       "Service Category          45\n",
       "Service Line               8\n",
       "Stage Number              12\n",
       "New Business               2\n",
       "Account Type              16\n",
       "Billing Type               7\n",
       "MSA Signed                 2\n",
       "Unsolicited Proposal       2\n",
       "Deliverable Type           3\n",
       "dtype: int64"
      ]
     },
     "execution_count": 51,
     "metadata": {},
     "output_type": "execute_result"
    }
   ],
   "source": [
    "UST.nunique()"
   ]
  },
  {
   "cell_type": "code",
   "execution_count": null,
   "id": "bc649ef0",
   "metadata": {},
   "outputs": [
    {
     "data": {
      "text/plain": [
       "0               Signed Contract\n",
       "1              Verbal Agreement\n",
       "2              Verbal Agreement\n",
       "3              Verbal Agreement\n",
       "4               Signed Contract\n",
       "                 ...           \n",
       "6886        No bid / Retraction\n",
       "6887        No bid / Retraction\n",
       "6888        No bid / Retraction\n",
       "6889    Opportunity Closed LOST\n",
       "6890        No bid / Retraction\n",
       "Name: Stage, Length: 6891, dtype: object"
      ]
     },
     "execution_count": 25,
     "metadata": {},
     "output_type": "execute_result"
    }
   ],
   "source": [
    "UST['Stage']"
   ]
  },
  {
   "cell_type": "code",
   "execution_count": null,
   "id": "40abeddc",
   "metadata": {},
   "outputs": [
    {
     "data": {
      "text/plain": [
       "171"
      ]
     },
     "execution_count": 26,
     "metadata": {},
     "output_type": "execute_result"
    }
   ],
   "source": [
    "(UST['Stage'] == 'Verbal Agreement').sum()"
   ]
  },
  {
   "cell_type": "code",
   "execution_count": null,
   "id": "8908d2f7",
   "metadata": {},
   "outputs": [
    {
     "data": {
      "text/plain": [
       "1108"
      ]
     },
     "execution_count": 28,
     "metadata": {},
     "output_type": "execute_result"
    }
   ],
   "source": [
    "(UST['Stage'] == 'No bid / Retraction').sum()"
   ]
  },
  {
   "cell_type": "code",
   "execution_count": null,
   "id": "fb6ba223",
   "metadata": {},
   "outputs": [
    {
     "data": {
      "text/plain": [
       "710"
      ]
     },
     "execution_count": 29,
     "metadata": {},
     "output_type": "execute_result"
    }
   ],
   "source": [
    "(UST['Stage'] == 'Opportunity Closed LOST').sum()"
   ]
  },
  {
   "cell_type": "code",
   "execution_count": null,
   "id": "f609fad8",
   "metadata": {},
   "outputs": [
    {
     "data": {
      "text/plain": [
       "12"
      ]
     },
     "execution_count": 30,
     "metadata": {},
     "output_type": "execute_result"
    }
   ],
   "source": [
    "UST['Stage'].nunique()"
   ]
  },
  {
   "cell_type": "code",
   "execution_count": null,
   "id": "e17a79f1",
   "metadata": {},
   "outputs": [
    {
     "data": {
      "text/plain": [
       "Signed Contract                     3757\n",
       "No bid / Retraction                 1108\n",
       "Opportunity Closed LOST              710\n",
       "Execution Complete                   588\n",
       "Verbal Agreement                     171\n",
       "Opportunity Identification Stage     158\n",
       "Proposal Preparation Stage           154\n",
       "Proposal On-desk Stage               109\n",
       "F2F Meeting Stage                     53\n",
       "Negotiation / Short-list Stage        40\n",
       "Tele-Sales Stage                      25\n",
       "Phone Meeting Stage                   18\n",
       "Name: Stage, dtype: int64"
      ]
     },
     "execution_count": 31,
     "metadata": {},
     "output_type": "execute_result"
    }
   ],
   "source": [
    "UST['Stage'].value_counts()"
   ]
  },
  {
   "cell_type": "code",
   "execution_count": null,
   "id": "3dd7a944",
   "metadata": {},
   "outputs": [
    {
     "data": {
      "text/plain": [
       "Flat Fee Monthly    2943\n",
       "Time and Expense    2664\n",
       "Fixed Bid           1021\n",
       "T and E with Cap     130\n",
       "Per Transaction       86\n",
       "Internal              42\n",
       "Per Seat               3\n",
       "Name: Billing Type, dtype: int64"
      ]
     },
     "execution_count": 34,
     "metadata": {},
     "output_type": "execute_result"
    }
   ],
   "source": [
    "UST['Billing Type'].value_counts()"
   ]
  },
  {
   "cell_type": "code",
   "execution_count": null,
   "id": "c94022e8",
   "metadata": {},
   "outputs": [
    {
     "data": {
      "text/plain": [
       "0    5562\n",
       "1    1329\n",
       "Name: MSA Signed, dtype: int64"
      ]
     },
     "execution_count": 37,
     "metadata": {},
     "output_type": "execute_result"
    }
   ],
   "source": [
    "UST['MSA Signed'].value_counts()"
   ]
  },
  {
   "cell_type": "code",
   "execution_count": null,
   "id": "852a2c86",
   "metadata": {},
   "outputs": [
    {
     "data": {
      "text/html": [
       "<div>\n",
       "<style scoped>\n",
       "    .dataframe tbody tr th:only-of-type {\n",
       "        vertical-align: middle;\n",
       "    }\n",
       "\n",
       "    .dataframe tbody tr th {\n",
       "        vertical-align: top;\n",
       "    }\n",
       "\n",
       "    .dataframe thead th {\n",
       "        text-align: right;\n",
       "    }\n",
       "</style>\n",
       "<table border=\"1\" class=\"dataframe\">\n",
       "  <thead>\n",
       "    <tr style=\"text-align: right;\">\n",
       "      <th></th>\n",
       "      <th>Billing Type</th>\n",
       "      <th>MSA Signed</th>\n",
       "      <th>Stage</th>\n",
       "    </tr>\n",
       "  </thead>\n",
       "  <tbody>\n",
       "    <tr>\n",
       "      <th>0</th>\n",
       "      <td>Time and Expense</td>\n",
       "      <td>0</td>\n",
       "      <td>Signed Contract</td>\n",
       "    </tr>\n",
       "    <tr>\n",
       "      <th>1</th>\n",
       "      <td>Time and Expense</td>\n",
       "      <td>0</td>\n",
       "      <td>Verbal Agreement</td>\n",
       "    </tr>\n",
       "    <tr>\n",
       "      <th>2</th>\n",
       "      <td>Time and Expense</td>\n",
       "      <td>0</td>\n",
       "      <td>Verbal Agreement</td>\n",
       "    </tr>\n",
       "    <tr>\n",
       "      <th>3</th>\n",
       "      <td>Time and Expense</td>\n",
       "      <td>0</td>\n",
       "      <td>Verbal Agreement</td>\n",
       "    </tr>\n",
       "    <tr>\n",
       "      <th>4</th>\n",
       "      <td>Flat Fee Monthly</td>\n",
       "      <td>0</td>\n",
       "      <td>Signed Contract</td>\n",
       "    </tr>\n",
       "    <tr>\n",
       "      <th>...</th>\n",
       "      <td>...</td>\n",
       "      <td>...</td>\n",
       "      <td>...</td>\n",
       "    </tr>\n",
       "    <tr>\n",
       "      <th>6886</th>\n",
       "      <td>Time and Expense</td>\n",
       "      <td>0</td>\n",
       "      <td>No bid / Retraction</td>\n",
       "    </tr>\n",
       "    <tr>\n",
       "      <th>6887</th>\n",
       "      <td>Time and Expense</td>\n",
       "      <td>0</td>\n",
       "      <td>No bid / Retraction</td>\n",
       "    </tr>\n",
       "    <tr>\n",
       "      <th>6888</th>\n",
       "      <td>Time and Expense</td>\n",
       "      <td>0</td>\n",
       "      <td>No bid / Retraction</td>\n",
       "    </tr>\n",
       "    <tr>\n",
       "      <th>6889</th>\n",
       "      <td>Time and Expense</td>\n",
       "      <td>0</td>\n",
       "      <td>Opportunity Closed LOST</td>\n",
       "    </tr>\n",
       "    <tr>\n",
       "      <th>6890</th>\n",
       "      <td>Time and Expense</td>\n",
       "      <td>0</td>\n",
       "      <td>No bid / Retraction</td>\n",
       "    </tr>\n",
       "  </tbody>\n",
       "</table>\n",
       "<p>6891 rows × 3 columns</p>\n",
       "</div>"
      ],
      "text/plain": [
       "          Billing Type  MSA Signed                    Stage\n",
       "0     Time and Expense           0          Signed Contract\n",
       "1     Time and Expense           0         Verbal Agreement\n",
       "2     Time and Expense           0         Verbal Agreement\n",
       "3     Time and Expense           0         Verbal Agreement\n",
       "4     Flat Fee Monthly           0          Signed Contract\n",
       "...                ...         ...                      ...\n",
       "6886  Time and Expense           0      No bid / Retraction\n",
       "6887  Time and Expense           0      No bid / Retraction\n",
       "6888  Time and Expense           0      No bid / Retraction\n",
       "6889  Time and Expense           0  Opportunity Closed LOST\n",
       "6890  Time and Expense           0      No bid / Retraction\n",
       "\n",
       "[6891 rows x 3 columns]"
      ]
     },
     "execution_count": 44,
     "metadata": {},
     "output_type": "execute_result"
    }
   ],
   "source": [
    "UST6 = UST[['Billing Type', 'MSA Signed','Stage']]"
   ]
  },
  {
   "cell_type": "code",
   "execution_count": null,
   "id": "b89744c3",
   "metadata": {},
   "outputs": [
    {
     "data": {
      "text/plain": [
       "<seaborn.axisgrid.FacetGrid at 0x128a095e0>"
      ]
     },
     "execution_count": 62,
     "metadata": {},
     "output_type": "execute_result"
    },
    {
     "data": {
      "image/png": "[encoded data removed]",
      "text/plain": [
       "<Figure size 916.375x360 with 2 Axes>"
      ]
     },
     "metadata": {
      "needs_background": "light"
     },
     "output_type": "display_data"
    }
   ],
   "source": [
    "sns.catplot(x=\"MSA Signed\", y=\" Amount \", hue=\"Stage\",col=\"Probability\", kind = 'bar',data=UST, palette = \"rainbow\")"
   ]
  },
  {
   "cell_type": "code",
   "execution_count": null,
   "id": "de1fb64d",
   "metadata": {},
   "outputs": [
    {
     "data": {
      "text/html": [
       "<div>\n",
       "<style scoped>\n",
       "    .dataframe tbody tr th:only-of-type {\n",
       "        vertical-align: middle;\n",
       "    }\n",
       "\n",
       "    .dataframe tbody tr th {\n",
       "        vertical-align: top;\n",
       "    }\n",
       "\n",
       "    .dataframe thead th {\n",
       "        text-align: right;\n",
       "    }\n",
       "</style>\n",
       "<table border=\"1\" class=\"dataframe\">\n",
       "  <thead>\n",
       "    <tr style=\"text-align: right;\">\n",
       "      <th></th>\n",
       "      <th>Project ID</th>\n",
       "      <th>Amount</th>\n",
       "      <th>Expected Revenue</th>\n",
       "      <th>Probability</th>\n",
       "      <th>Stage Number</th>\n",
       "      <th>New Business</th>\n",
       "      <th>MSA Signed</th>\n",
       "    </tr>\n",
       "  </thead>\n",
       "  <tbody>\n",
       "    <tr>\n",
       "      <th>count</th>\n",
       "      <td>6891.000000</td>\n",
       "      <td>6.891000e+03</td>\n",
       "      <td>6.891000e+03</td>\n",
       "      <td>6891.000000</td>\n",
       "      <td>6891.000000</td>\n",
       "      <td>6891.000000</td>\n",
       "      <td>6891.000000</td>\n",
       "    </tr>\n",
       "    <tr>\n",
       "      <th>mean</th>\n",
       "      <td>3468.259034</td>\n",
       "      <td>2.925607e+05</td>\n",
       "      <td>1.115754e+05</td>\n",
       "      <td>0.574953</td>\n",
       "      <td>4.145262</td>\n",
       "      <td>0.261065</td>\n",
       "      <td>0.192860</td>\n",
       "    </tr>\n",
       "    <tr>\n",
       "      <th>std</th>\n",
       "      <td>2003.099804</td>\n",
       "      <td>1.916039e+06</td>\n",
       "      <td>8.090385e+05</td>\n",
       "      <td>0.494386</td>\n",
       "      <td>4.652349</td>\n",
       "      <td>0.439247</td>\n",
       "      <td>0.394573</td>\n",
       "    </tr>\n",
       "    <tr>\n",
       "      <th>min</th>\n",
       "      <td>1.000000</td>\n",
       "      <td>-9.009600e+05</td>\n",
       "      <td>-9.009600e+05</td>\n",
       "      <td>0.000000</td>\n",
       "      <td>-3.000000</td>\n",
       "      <td>0.000000</td>\n",
       "      <td>0.000000</td>\n",
       "    </tr>\n",
       "    <tr>\n",
       "      <th>25%</th>\n",
       "      <td>1740.500000</td>\n",
       "      <td>6.306300e+03</td>\n",
       "      <td>0.000000e+00</td>\n",
       "      <td>0.000000</td>\n",
       "      <td>-1.000000</td>\n",
       "      <td>0.000000</td>\n",
       "      <td>0.000000</td>\n",
       "    </tr>\n",
       "    <tr>\n",
       "      <th>50%</th>\n",
       "      <td>3464.000000</td>\n",
       "      <td>4.252500e+04</td>\n",
       "      <td>7.500000e+03</td>\n",
       "      <td>1.000000</td>\n",
       "      <td>8.000000</td>\n",
       "      <td>0.000000</td>\n",
       "      <td>0.000000</td>\n",
       "    </tr>\n",
       "    <tr>\n",
       "      <th>75%</th>\n",
       "      <td>5186.500000</td>\n",
       "      <td>1.350100e+05</td>\n",
       "      <td>6.162568e+04</td>\n",
       "      <td>1.000000</td>\n",
       "      <td>8.000000</td>\n",
       "      <td>1.000000</td>\n",
       "      <td>0.000000</td>\n",
       "    </tr>\n",
       "    <tr>\n",
       "      <th>max</th>\n",
       "      <td>7132.000000</td>\n",
       "      <td>9.100000e+07</td>\n",
       "      <td>3.960000e+07</td>\n",
       "      <td>1.000000</td>\n",
       "      <td>8.000000</td>\n",
       "      <td>1.000000</td>\n",
       "      <td>1.000000</td>\n",
       "    </tr>\n",
       "  </tbody>\n",
       "</table>\n",
       "</div>"
      ],
      "text/plain": [
       "        Project ID       Amount   Expected Revenue  Probability  Stage Number  \\\n",
       "count  6891.000000  6.891000e+03      6.891000e+03  6891.000000   6891.000000   \n",
       "mean   3468.259034  2.925607e+05      1.115754e+05     0.574953      4.145262   \n",
       "std    2003.099804  1.916039e+06      8.090385e+05     0.494386      4.652349   \n",
       "min       1.000000 -9.009600e+05     -9.009600e+05     0.000000     -3.000000   \n",
       "25%    1740.500000  6.306300e+03      0.000000e+00     0.000000     -1.000000   \n",
       "50%    3464.000000  4.252500e+04      7.500000e+03     1.000000      8.000000   \n",
       "75%    5186.500000  1.350100e+05      6.162568e+04     1.000000      8.000000   \n",
       "max    7132.000000  9.100000e+07      3.960000e+07     1.000000      8.000000   \n",
       "\n",
       "       New Business   MSA Signed  \n",
       "count   6891.000000  6891.000000  \n",
       "mean       0.261065     0.192860  \n",
       "std        0.439247     0.394573  \n",
       "min        0.000000     0.000000  \n",
       "25%        0.000000     0.000000  \n",
       "50%        0.000000     0.000000  \n",
       "75%        1.000000     0.000000  \n",
       "max        1.000000     1.000000  "
      ]
     },
     "execution_count": 63,
     "metadata": {},
     "output_type": "execute_result"
    }
   ],
   "source": [
    "UST.describe()"
   ]
  },
  {
   "cell_type": "code",
   "execution_count": null,
   "id": "d5373600",
   "metadata": {},
   "outputs": [
    {
     "data": {
      "text/plain": [
       "2.0726309679291828"
      ]
     },
     "execution_count": 73,
     "metadata": {},
     "output_type": "execute_result"
    }
   ],
   "source": [
    "UST['Stage Number'].mean() * 1/2"
   ]
  },
  {
   "cell_type": "code",
   "execution_count": null,
   "id": "b51852f2",
   "metadata": {},
   "outputs": [
    {
     "data": {
      "text/plain": [
       "(292560.71132056316, 42525.0)"
      ]
     },
     "execution_count": 64,
     "metadata": {},
     "output_type": "execute_result"
    }
   ],
   "source": [
    "UST[' Amount '].mean(),UST[' Amount '].median()"
   ]
  },
  {
   "cell_type": "code",
   "execution_count": null,
   "id": "e9868228",
   "metadata": {},
   "outputs": [
    {
     "data": {
      "text/plain": [
       "<matplotlib.collections.PathCollection at 0x128021460>"
      ]
     },
     "execution_count": 65,
     "metadata": {},
     "output_type": "execute_result"
    },
    {
     "data": {
      "image/png": "[encoded data removed]",
      "text/plain": [
       "<Figure size 432x288 with 1 Axes>"
      ]
     },
     "metadata": {
      "needs_background": "light"
     },
     "output_type": "display_data"
    }
   ],
   "source": [
    "x=UST['Stage Number']\n",
    "y=UST['Expected Revenue']\n",
    "plt.scatter(x,y)"
   ]
  },
  {
   "cell_type": "code",
   "execution_count": null,
   "id": "03a9ba5c",
   "metadata": {},
   "outputs": [
    {
     "data": {
      "text/plain": [
       "<matplotlib.collections.PathCollection at 0x129504dc0>"
      ]
     },
     "execution_count": 67,
     "metadata": {},
     "output_type": "execute_result"
    },
    {
     "data": {
      "image/png": "[encoded data removed]",
      "text/plain": [
       "<Figure size 432x288 with 1 Axes>"
      ]
     },
     "metadata": {
      "needs_background": "light"
     },
     "output_type": "display_data"
    }
   ],
   "source": [
    "x=UST['Stage Number']\n",
    "y=UST[' Amount ']\n",
    "plt.scatter(x,y)"
   ]
  },
  {
   "cell_type": "code",
   "execution_count": null,
   "id": "0ccb1a12",
   "metadata": {},
   "outputs": [],
   "source": []
  },
  {
   "cell_type": "code",
   "execution_count": null,
   "id": "3f74b253",
   "metadata": {},
   "outputs": [
    {
     "data": {
      "text/plain": [
       "<matplotlib.colorbar.Colorbar at 0x129ddeee0>"
      ]
     },
     "execution_count": 75,
     "metadata": {},
     "output_type": "execute_result"
    },
    {
     "data": {
      "image/png": "[encoded data removed]",
      "text/plain": [
       "<Figure size 432x288 with 2 Axes>"
      ]
     },
     "metadata": {
      "needs_background": "light"
     },
     "output_type": "display_data"
    }
   ],
   "source": [
    "#plot to see the distribtion of revenues vs stage number\n",
    "rng=np.random.RandomState(0)\n",
    "x=UST2['Stage Number']\n",
    "y=UST2['Expected Revenue']\n",
    "colors=rng.rand(100)\n",
    "sizes=1000*rng.rand(100)\n",
    "plt.scatter(x,y,c=colors,s=sizes,alpha=.3)\n",
    "plt.colorbar()"
   ]
  },
  {
   "cell_type": "code",
   "execution_count": null,
   "id": "1ca6fa2d",
   "metadata": {},
   "outputs": [
    {
     "name": "stdout",
     "output_type": "stream",
     "text": [
      "New Business       -0.088450\n",
      "Project ID         -0.064737\n",
      " Amount            -0.054859\n",
      "MSA Signed          0.034142\n",
      "Expected Revenue    0.102259\n",
      "Stage Number        0.552487\n",
      "Probability         1.000000\n",
      "Name: Probability, dtype: float64 \n",
      "\n"
     ]
    }
   ],
   "source": [
    "# Find all correlations and sort \n",
    "correlations_data = UST.corr()['Probability'].sort_values()\n",
    "\n",
    "# Print the correlations\n",
    "print(correlations_data.head(15), '\\n')"
   ]
  },
  {
   "cell_type": "code",
   "execution_count": null,
   "id": "0479fef2",
   "metadata": {},
   "outputs": [],
   "source": [
    "# # Find all correlations and sort \n",
    "# correlations_data2 = UST2.corr()['Probability'].sort_values()\n",
    "\n",
    "# # Print the most negative correlations\n",
    "# print(correlations_data2.head(15), '\\n')"
   ]
  },
  {
   "cell_type": "markdown",
   "id": "66282c4a",
   "metadata": {},
   "source": [
    "# Data cleaning\n"
   ]
  },
  {
   "cell_type": "code",
   "execution_count": null,
   "id": "61340e6b",
   "metadata": {},
   "outputs": [
    {
     "data": {
      "text/html": [
       "<div>\n",
       "<style scoped>\n",
       "    .dataframe tbody tr th:only-of-type {\n",
       "        vertical-align: middle;\n",
       "    }\n",
       "\n",
       "    .dataframe tbody tr th {\n",
       "        vertical-align: top;\n",
       "    }\n",
       "\n",
       "    .dataframe thead th {\n",
       "        text-align: right;\n",
       "    }\n",
       "</style>\n",
       "<table border=\"1\" class=\"dataframe\">\n",
       "  <thead>\n",
       "    <tr style=\"text-align: right;\">\n",
       "      <th></th>\n",
       "      <th>Total</th>\n",
       "      <th>Percent</th>\n",
       "    </tr>\n",
       "  </thead>\n",
       "  <tbody>\n",
       "    <tr>\n",
       "      <th>Service Category</th>\n",
       "      <td>673</td>\n",
       "      <td>9.766362</td>\n",
       "    </tr>\n",
       "    <tr>\n",
       "      <th>Unsolicited Proposal</th>\n",
       "      <td>9</td>\n",
       "      <td>0.130605</td>\n",
       "    </tr>\n",
       "    <tr>\n",
       "      <th>Account Type</th>\n",
       "      <td>6</td>\n",
       "      <td>0.087070</td>\n",
       "    </tr>\n",
       "    <tr>\n",
       "      <th>Deliverable Type</th>\n",
       "      <td>5</td>\n",
       "      <td>0.072558</td>\n",
       "    </tr>\n",
       "    <tr>\n",
       "      <th>Billing Type</th>\n",
       "      <td>2</td>\n",
       "      <td>0.029023</td>\n",
       "    </tr>\n",
       "  </tbody>\n",
       "</table>\n",
       "</div>"
      ],
      "text/plain": [
       "                      Total   Percent\n",
       "Service Category        673  9.766362\n",
       "Unsolicited Proposal      9  0.130605\n",
       "Account Type              6  0.087070\n",
       "Deliverable Type          5  0.072558\n",
       "Billing Type              2  0.029023"
      ]
     },
     "execution_count": 91,
     "metadata": {},
     "output_type": "execute_result"
    },
    {
     "data": {
      "image/png": "[encoded data removed]",
      "text/plain": [
       "<Figure size 576x432 with 1 Axes>"
      ]
     },
     "metadata": {
      "needs_background": "light"
     },
     "output_type": "display_data"
    }
   ],
   "source": [
    "#Looking at the missing data\n",
    "\n",
    "def missingdata(data):\n",
    "    total = data.isnull().sum().sort_values(ascending = False)\n",
    "    percent = (data.isnull().sum()/data.isnull().count()*100).sort_values(ascending = False)\n",
    "    ms=pd.concat([total, percent], axis=1, keys=['Total', 'Percent'])\n",
    "    ms= ms[ms[\"Percent\"] > 0]\n",
    "    f,ax =plt.subplots(figsize=(8,6))\n",
    "    plt.xticks(rotation='90')\n",
    "    fig=sns.barplot(ms.index, ms[\"Percent\"],color=\"green\",alpha=0.8)\n",
    "    plt.xlabel('Features', fontsize=15)\n",
    "    plt.ylabel('Percent of missing values', fontsize=15)\n",
    "    plt.title('Percent missing data by feature', fontsize=15)\n",
    "    return ms\n",
    "missingdata(UST)"
   ]
  },
  {
   "cell_type": "code",
   "execution_count": null,
   "id": "934a45eb",
   "metadata": {},
   "outputs": [],
   "source": [
    "drop_column = ['Service Category']\n",
    "UST.drop(drop_column, axis=1, inplace = True)"
   ]
  },
  {
   "cell_type": "code",
   "execution_count": null,
   "id": "97e27291",
   "metadata": {},
   "outputs": [],
   "source": [
    "UST['Billing Type'].fillna(UST['Billing Type'].mode()[0], inplace = True)\n",
    "UST['Deliverable Type'].fillna(UST['Deliverable Type'].mode()[0], inplace = True)\n",
    "UST['Account Type'].fillna(UST['Account Type'].mode()[0], inplace = True)\n",
    "UST['Unsolicited Proposal'].fillna(UST['Unsolicited Proposal'].mode()[0], inplace = True)\n"
   ]
  },
  {
   "cell_type": "code",
   "execution_count": null,
   "id": "dcac97b4",
   "metadata": {},
   "outputs": [
    {
     "data": {
      "text/plain": [
       "Project ID              0\n",
       "Opportunity Owner       0\n",
       "Account Name            0\n",
       "Stage                   0\n",
       " Amount                 0\n",
       "Expected Revenue        0\n",
       "Probability             0\n",
       "Service Line            0\n",
       "Stage Number            0\n",
       "New Business            0\n",
       "Account Type            0\n",
       "Billing Type            0\n",
       "MSA Signed              0\n",
       "Unsolicited Proposal    0\n",
       "Deliverable Type        0\n",
       "dtype: int64"
      ]
     },
     "execution_count": 100,
     "metadata": {},
     "output_type": "execute_result"
    }
   ],
   "source": [
    "UST.isnull().sum()"
   ]
  },
  {
   "cell_type": "code",
   "execution_count": null,
   "id": "813a85f5",
   "metadata": {},
   "outputs": [
    {
     "data": {
      "text/plain": [
       "Project ID                int64\n",
       "Opportunity Owner        object\n",
       "Account Name             object\n",
       "Stage                    object\n",
       " Amount                 float64\n",
       "Expected Revenue        float64\n",
       "Probability               int64\n",
       "Service Line             object\n",
       "Stage Number              int64\n",
       "New Business              int64\n",
       "Account Type             object\n",
       "Billing Type             object\n",
       "MSA Signed                int64\n",
       "Unsolicited Proposal     object\n",
       "Deliverable Type         object\n",
       "dtype: object"
      ]
     },
     "execution_count": 102,
     "metadata": {},
     "output_type": "execute_result"
    }
   ],
   "source": [
    "UST.dtypes"
   ]
  },
  {
   "cell_type": "code",
   "execution_count": null,
   "id": "bf1e2722",
   "metadata": {},
   "outputs": [
    {
     "data": {
      "text/plain": [
       "(6891, 15)"
      ]
     },
     "execution_count": 103,
     "metadata": {},
     "output_type": "execute_result"
    }
   ],
   "source": [
    "UST.shape"
   ]
  },
  {
   "cell_type": "code",
   "execution_count": null,
   "id": "7cc2090e",
   "metadata": {},
   "outputs": [
    {
     "data": {
      "text/plain": [
       "(0.19286025250326513, 0.5749528370338122)"
      ]
     },
     "execution_count": 106,
     "metadata": {},
     "output_type": "execute_result"
    }
   ],
   "source": [
    "(UST['MSA Signed'].mean(), UST['Probability'].mean())"
   ]
  },
  {
   "cell_type": "code",
   "execution_count": null,
   "id": "8e4db693",
   "metadata": {},
   "outputs": [
    {
     "data": {
      "text/html": [
       "<div>\n",
       "<style scoped>\n",
       "    .dataframe tbody tr th:only-of-type {\n",
       "        vertical-align: middle;\n",
       "    }\n",
       "\n",
       "    .dataframe tbody tr th {\n",
       "        vertical-align: top;\n",
       "    }\n",
       "\n",
       "    .dataframe thead th {\n",
       "        text-align: right;\n",
       "    }\n",
       "</style>\n",
       "<table border=\"1\" class=\"dataframe\">\n",
       "  <thead>\n",
       "    <tr style=\"text-align: right;\">\n",
       "      <th></th>\n",
       "      <th>Fixed Bid</th>\n",
       "      <th>Flat Fee Monthly</th>\n",
       "      <th>Internal</th>\n",
       "      <th>Per Seat</th>\n",
       "      <th>Per Transaction</th>\n",
       "      <th>T and E with Cap</th>\n",
       "      <th>Time and Expense</th>\n",
       "    </tr>\n",
       "  </thead>\n",
       "  <tbody>\n",
       "    <tr>\n",
       "      <th>0</th>\n",
       "      <td>0</td>\n",
       "      <td>0</td>\n",
       "      <td>0</td>\n",
       "      <td>0</td>\n",
       "      <td>0</td>\n",
       "      <td>0</td>\n",
       "      <td>1</td>\n",
       "    </tr>\n",
       "    <tr>\n",
       "      <th>1</th>\n",
       "      <td>0</td>\n",
       "      <td>0</td>\n",
       "      <td>0</td>\n",
       "      <td>0</td>\n",
       "      <td>0</td>\n",
       "      <td>0</td>\n",
       "      <td>1</td>\n",
       "    </tr>\n",
       "    <tr>\n",
       "      <th>2</th>\n",
       "      <td>0</td>\n",
       "      <td>0</td>\n",
       "      <td>0</td>\n",
       "      <td>0</td>\n",
       "      <td>0</td>\n",
       "      <td>0</td>\n",
       "      <td>1</td>\n",
       "    </tr>\n",
       "    <tr>\n",
       "      <th>3</th>\n",
       "      <td>0</td>\n",
       "      <td>0</td>\n",
       "      <td>0</td>\n",
       "      <td>0</td>\n",
       "      <td>0</td>\n",
       "      <td>0</td>\n",
       "      <td>1</td>\n",
       "    </tr>\n",
       "    <tr>\n",
       "      <th>4</th>\n",
       "      <td>0</td>\n",
       "      <td>1</td>\n",
       "      <td>0</td>\n",
       "      <td>0</td>\n",
       "      <td>0</td>\n",
       "      <td>0</td>\n",
       "      <td>0</td>\n",
       "    </tr>\n",
       "  </tbody>\n",
       "</table>\n",
       "</div>"
      ],
      "text/plain": [
       "   Fixed Bid  Flat Fee Monthly  Internal  Per Seat  Per Transaction  \\\n",
       "0          0                 0         0         0                0   \n",
       "1          0                 0         0         0                0   \n",
       "2          0                 0         0         0                0   \n",
       "3          0                 0         0         0                0   \n",
       "4          0                 1         0         0                0   \n",
       "\n",
       "   T and E with Cap  Time and Expense  \n",
       "0                 0                 1  \n",
       "1                 0                 1  \n",
       "2                 0                 1  \n",
       "3                 0                 1  \n",
       "4                 0                 0  "
      ]
     },
     "execution_count": 113,
     "metadata": {},
     "output_type": "execute_result"
    }
   ],
   "source": [
    "bill = pd.get_dummies(UST['Billing Type'])\n",
    "bill.head(5)"
   ]
  },
  {
   "cell_type": "code",
   "execution_count": null,
   "id": "fcda4f16",
   "metadata": {},
   "outputs": [],
   "source": [
    "all_data = UST\n",
    "import re\n",
    "                                                                            \n",
    "traindf=UST\n",
    "\n",
    "traindf = pd.get_dummies(traindf, columns = [\"Opportunity Owner\",\"Account Name\",\"Stage\",\"Service Line\",\"Stage Number\",\"Account Type\",\"Billing Type\",\"Unsolicited Proposal\",\"Deliverable Type\"],\n",
    "                             prefix=[\"Owner\",\"Account\",\"Stg\",\"SvcLn\",\"StgNum\",\"Acctype\",\"Billngtype\",\"UnSolProp\",\"DelType\"])"
   ]
  },
  {
   "cell_type": "code",
   "execution_count": null,
   "id": "08cdf652",
   "metadata": {},
   "outputs": [
    {
     "data": {
      "text/html": [
       "<div>\n",
       "<style scoped>\n",
       "    .dataframe tbody tr th:only-of-type {\n",
       "        vertical-align: middle;\n",
       "    }\n",
       "\n",
       "    .dataframe tbody tr th {\n",
       "        vertical-align: top;\n",
       "    }\n",
       "\n",
       "    .dataframe thead th {\n",
       "        text-align: right;\n",
       "    }\n",
       "</style>\n",
       "<table border=\"1\" class=\"dataframe\">\n",
       "  <thead>\n",
       "    <tr style=\"text-align: right;\">\n",
       "      <th></th>\n",
       "      <th>Project ID</th>\n",
       "      <th>Amount</th>\n",
       "      <th>Expected Revenue</th>\n",
       "      <th>Probability</th>\n",
       "      <th>New Business</th>\n",
       "      <th>MSA Signed</th>\n",
       "      <th>Owner_Ajith Daniel</th>\n",
       "      <th>Owner_Alan Johnson</th>\n",
       "      <th>Owner_Amandeep Sidhu</th>\n",
       "      <th>Owner_Amit Mullerpattan</th>\n",
       "      <th>...</th>\n",
       "      <th>Billngtype_Internal</th>\n",
       "      <th>Billngtype_Per Seat</th>\n",
       "      <th>Billngtype_Per Transaction</th>\n",
       "      <th>Billngtype_T and E with Cap</th>\n",
       "      <th>Billngtype_Time and Expense</th>\n",
       "      <th>UnSolProp_No</th>\n",
       "      <th>UnSolProp_Yes</th>\n",
       "      <th>DelType_Managed Services / SLA Based</th>\n",
       "      <th>DelType_Scope of Work / Project</th>\n",
       "      <th>DelType_Staff Augmentation</th>\n",
       "    </tr>\n",
       "  </thead>\n",
       "  <tbody>\n",
       "    <tr>\n",
       "      <th>0</th>\n",
       "      <td>1</td>\n",
       "      <td>7680.0</td>\n",
       "      <td>7680.0</td>\n",
       "      <td>1</td>\n",
       "      <td>0</td>\n",
       "      <td>0</td>\n",
       "      <td>0</td>\n",
       "      <td>0</td>\n",
       "      <td>1</td>\n",
       "      <td>0</td>\n",
       "      <td>...</td>\n",
       "      <td>0</td>\n",
       "      <td>0</td>\n",
       "      <td>0</td>\n",
       "      <td>0</td>\n",
       "      <td>1</td>\n",
       "      <td>1</td>\n",
       "      <td>0</td>\n",
       "      <td>0</td>\n",
       "      <td>1</td>\n",
       "      <td>0</td>\n",
       "    </tr>\n",
       "    <tr>\n",
       "      <th>1</th>\n",
       "      <td>2</td>\n",
       "      <td>6400.0</td>\n",
       "      <td>5760.0</td>\n",
       "      <td>1</td>\n",
       "      <td>0</td>\n",
       "      <td>0</td>\n",
       "      <td>0</td>\n",
       "      <td>0</td>\n",
       "      <td>1</td>\n",
       "      <td>0</td>\n",
       "      <td>...</td>\n",
       "      <td>0</td>\n",
       "      <td>0</td>\n",
       "      <td>0</td>\n",
       "      <td>0</td>\n",
       "      <td>1</td>\n",
       "      <td>1</td>\n",
       "      <td>0</td>\n",
       "      <td>0</td>\n",
       "      <td>1</td>\n",
       "      <td>0</td>\n",
       "    </tr>\n",
       "    <tr>\n",
       "      <th>2</th>\n",
       "      <td>3</td>\n",
       "      <td>3600.0</td>\n",
       "      <td>3240.0</td>\n",
       "      <td>1</td>\n",
       "      <td>0</td>\n",
       "      <td>0</td>\n",
       "      <td>0</td>\n",
       "      <td>0</td>\n",
       "      <td>1</td>\n",
       "      <td>0</td>\n",
       "      <td>...</td>\n",
       "      <td>0</td>\n",
       "      <td>0</td>\n",
       "      <td>0</td>\n",
       "      <td>0</td>\n",
       "      <td>1</td>\n",
       "      <td>1</td>\n",
       "      <td>0</td>\n",
       "      <td>0</td>\n",
       "      <td>1</td>\n",
       "      <td>0</td>\n",
       "    </tr>\n",
       "    <tr>\n",
       "      <th>3</th>\n",
       "      <td>4</td>\n",
       "      <td>3600.0</td>\n",
       "      <td>3240.0</td>\n",
       "      <td>1</td>\n",
       "      <td>0</td>\n",
       "      <td>0</td>\n",
       "      <td>0</td>\n",
       "      <td>0</td>\n",
       "      <td>1</td>\n",
       "      <td>0</td>\n",
       "      <td>...</td>\n",
       "      <td>0</td>\n",
       "      <td>0</td>\n",
       "      <td>0</td>\n",
       "      <td>0</td>\n",
       "      <td>1</td>\n",
       "      <td>1</td>\n",
       "      <td>0</td>\n",
       "      <td>0</td>\n",
       "      <td>1</td>\n",
       "      <td>0</td>\n",
       "    </tr>\n",
       "    <tr>\n",
       "      <th>4</th>\n",
       "      <td>5</td>\n",
       "      <td>50224.0</td>\n",
       "      <td>50224.0</td>\n",
       "      <td>1</td>\n",
       "      <td>0</td>\n",
       "      <td>0</td>\n",
       "      <td>0</td>\n",
       "      <td>0</td>\n",
       "      <td>0</td>\n",
       "      <td>0</td>\n",
       "      <td>...</td>\n",
       "      <td>0</td>\n",
       "      <td>0</td>\n",
       "      <td>0</td>\n",
       "      <td>0</td>\n",
       "      <td>0</td>\n",
       "      <td>1</td>\n",
       "      <td>0</td>\n",
       "      <td>0</td>\n",
       "      <td>0</td>\n",
       "      <td>1</td>\n",
       "    </tr>\n",
       "  </tbody>\n",
       "</table>\n",
       "<p>5 rows × 499 columns</p>\n",
       "</div>"
      ],
      "text/plain": [
       "   Project ID   Amount   Expected Revenue  Probability  New Business  \\\n",
       "0           1    7680.0            7680.0            1             0   \n",
       "1           2    6400.0            5760.0            1             0   \n",
       "2           3    3600.0            3240.0            1             0   \n",
       "3           4    3600.0            3240.0            1             0   \n",
       "4           5   50224.0           50224.0            1             0   \n",
       "\n",
       "   MSA Signed  Owner_Ajith Daniel  Owner_Alan Johnson  Owner_Amandeep Sidhu  \\\n",
       "0           0                   0                   0                     1   \n",
       "1           0                   0                   0                     1   \n",
       "2           0                   0                   0                     1   \n",
       "3           0                   0                   0                     1   \n",
       "4           0                   0                   0                     0   \n",
       "\n",
       "   Owner_Amit Mullerpattan  ...  Billngtype_Internal  Billngtype_Per Seat  \\\n",
       "0                        0  ...                    0                    0   \n",
       "1                        0  ...                    0                    0   \n",
       "2                        0  ...                    0                    0   \n",
       "3                        0  ...                    0                    0   \n",
       "4                        0  ...                    0                    0   \n",
       "\n",
       "   Billngtype_Per Transaction  Billngtype_T and E with Cap  \\\n",
       "0                           0                            0   \n",
       "1                           0                            0   \n",
       "2                           0                            0   \n",
       "3                           0                            0   \n",
       "4                           0                            0   \n",
       "\n",
       "   Billngtype_Time and Expense  UnSolProp_No  UnSolProp_Yes  \\\n",
       "0                            1             1              0   \n",
       "1                            1             1              0   \n",
       "2                            1             1              0   \n",
       "3                            1             1              0   \n",
       "4                            0             1              0   \n",
       "\n",
       "   DelType_Managed Services / SLA Based  DelType_Scope of Work / Project  \\\n",
       "0                                     0                                1   \n",
       "1                                     0                                1   \n",
       "2                                     0                                1   \n",
       "3                                     0                                1   \n",
       "4                                     0                                0   \n",
       "\n",
       "   DelType_Staff Augmentation  \n",
       "0                           0  \n",
       "1                           0  \n",
       "2                           0  \n",
       "3                           0  \n",
       "4                           1  \n",
       "\n",
       "[5 rows x 499 columns]"
      ]
     },
     "execution_count": 118,
     "metadata": {},
     "output_type": "execute_result"
    }
   ],
   "source": [
    "traindf.head()"
   ]
  },
  {
   "cell_type": "code",
   "execution_count": null,
   "id": "75b6e1a2",
   "metadata": {},
   "outputs": [
    {
     "name": "stdout",
     "output_type": "stream",
     "text": [
      "Account_Vanguard                  0.100452\n",
      "Expected Revenue                  0.102259\n",
      "StgNum_4                          0.110136\n",
      "Stg_Proposal Preparation Stage    0.110136\n",
      "Account_KPMG L.L.P.               0.122508\n",
      "Owner_Ashwani Bhasin              0.127661\n",
      "Acctype_US-East BU                0.129042\n",
      "Stg_Verbal Agreement              0.131495\n",
      "StgNum_7                          0.131495\n",
      "Stg_Execution Complete            0.160690\n",
      "StgNum_-3                         0.160690\n",
      "DelType_Staff Augmentation        0.168380\n",
      "StgNum_8                          0.510463\n",
      "Stg_Signed Contract               0.510463\n",
      "Probability                       1.000000\n",
      "Name: Probability, dtype: float64 \n",
      "\n"
     ]
    }
   ],
   "source": [
    "print(correlations_traindf.tail(15), '\\n')\n"
   ]
  },
  {
   "cell_type": "code",
   "execution_count": null,
   "id": "dff04031",
   "metadata": {},
   "outputs": [
    {
     "name": "stdout",
     "output_type": "stream",
     "text": [
      "Stg_No bid / Retraction                -0.509086\n",
      "StgNum_-2                              -0.508812\n",
      "StgNum_-1                              -0.394183\n",
      "Stg_Opportunity Closed LOST            -0.394183\n",
      "Stg_Opportunity Identification Stage   -0.166397\n",
      "StgNum_3                               -0.166397\n",
      "Owner_Venkatesh Rao                    -0.156948\n",
      "DelType_Scope of Work / Project        -0.115939\n",
      "DelType_Managed Services / SLA Based   -0.114865\n",
      "Owner_Denny Mathews                    -0.105549\n",
      "Owner_Erich Kreidler                   -0.104199\n",
      "Stg_F2F Meeting Stage                  -0.102393\n",
      "StgNum_2                               -0.102393\n",
      "Account_H&R Block                      -0.088611\n",
      "New Business                           -0.088450\n",
      "Name: Probability, dtype: float64 \n",
      "\n"
     ]
    }
   ],
   "source": [
    "correlations_traindf = traindf.corr()['Probability'].sort_values()\n",
    "print(correlations_traindf.head(15), '\\n')"
   ]
  },
  {
   "cell_type": "code",
   "execution_count": null,
   "id": "10fcf76d",
   "metadata": {},
   "outputs": [
    {
     "data": {
      "text/plain": [
       "(Opportunity Owner\n",
       " Mahesh Bhaskar     147\n",
       " Praveen Syamala    177\n",
       " Santosh Rajput     178\n",
       " Ashwani Bhasin     191\n",
       " Jose Ossa          205\n",
       " Kevin Swanson      260\n",
       " Name: Probability, dtype: int64,\n",
       " '\\n')"
      ]
     },
     "execution_count": 136,
     "metadata": {},
     "output_type": "execute_result"
    }
   ],
   "source": [
    "own_prob = UST.groupby('Opportunity Owner')['Probability'].sum().sort_values()\n",
    "own_prob.tail(6), '\\n'"
   ]
  },
  {
   "cell_type": "markdown",
   "id": "cb92f0ee",
   "metadata": {},
   "source": [
    "# Algorithm\n"
   ]
  },
  {
   "cell_type": "code",
   "execution_count": null,
   "id": "e208ede7",
   "metadata": {},
   "outputs": [],
   "source": [
    "from sklearn.model_selection import train_test_split #for split the data\n",
    "from sklearn.metrics import accuracy_score  #for accuracy_score\n",
    "from sklearn.model_selection import KFold #for K-fold cross validation\n",
    "from sklearn.model_selection import cross_val_score #score evaluation\n",
    "from sklearn.model_selection import cross_val_predict #prediction\n",
    "from sklearn.model_selection import GridSearchCV # for Hyper parameter tuning\n",
    "from sklearn.metrics import confusion_matrix #for confusion matrix\n",
    "from sklearn import metrics\n",
    "\n",
    "all_features = traindf.drop(\"Probability\",axis=1)\n",
    "Targeted_feature = traindf[\"Probability\"]\n",
    "\n",
    "# total of 6891 records in dataset\n",
    "# Divide the data set into two- 70% for train and 30% for test\n",
    "\n",
    "#X_train,X_test,y_train,y_test = train_test_split(all_features,Targeted_feature,test_size=0.3)  \n",
    "X_train,X_test,y_train,y_test = train_test_split(all_features,Targeted_feature,test_size=0.3,random_state=42) \n",
    "\n",
    "# Check the train test data set shape\n",
    "X_train.shape,X_test.shape,y_train.shape,y_test.shape"
   ]
  },
  {
   "cell_type": "code",
   "execution_count": null,
   "id": "0579cf8d",
   "metadata": {},
   "outputs": [
    {
     "data": {
      "text/plain": [
       "LogisticRegression()"
      ]
     },
     "execution_count": 139,
     "metadata": {},
     "output_type": "execute_result"
    }
   ],
   "source": [
    "# Train the logistic regression model with training data\n",
    "\n",
    "from sklearn.linear_model import LogisticRegression\n",
    "\n",
    "logreg = LogisticRegression()\n",
    "logreg.fit(X_train, y_train)"
   ]
  },
  {
   "cell_type": "code",
   "execution_count": null,
   "id": "21fa1ddf",
   "metadata": {},
   "outputs": [
    {
     "name": "stdout",
     "output_type": "stream",
     "text": [
      "--------------The Accuracy of the model----------------------------\n",
      "Accuracy of logistic regression classifier on test set: 0.96\n"
     ]
    },
    {
     "data": {
      "text/plain": [
       "Text(0.5, 1.05, 'Confusion_matrix')"
      ]
     },
     "execution_count": 140,
     "metadata": {},
     "output_type": "execute_result"
    },
    {
     "data": {
      "image/png": "[encoded data removed]",
      "text/plain": [
       "<Figure size 432x288 with 2 Axes>"
      ]
     },
     "metadata": {
      "needs_background": "light"
     },
     "output_type": "display_data"
    }
   ],
   "source": [
    "# predict the model output with test data \n",
    "\n",
    "y_pred = logreg.predict(X_test)\n",
    "\n",
    "print('--------------The Accuracy of the model----------------------------')\n",
    "print('Accuracy of logistic regression classifier on test set: {:.2f}'.format(logreg.score(X_test, y_test)))\n",
    "\n",
    "sns.heatmap(confusion_matrix(y_test,y_pred),annot=True,fmt='3.0f',cmap=\"summer\")\n",
    "plt.title('Confusion_matrix', y=1.05, size=15)"
   ]
  },
  {
   "cell_type": "code",
   "execution_count": null,
   "id": "abf45adc",
   "metadata": {},
   "outputs": [
    {
     "data": {
      "text/plain": [
       "Text(33.0, 0.5, 'predicted label')"
      ]
     },
     "execution_count": 141,
     "metadata": {},
     "output_type": "execute_result"
    },
    {
     "data": {
      "image/png": "[encoded data removed]",
      "text/plain": [
       "<Figure size 432x288 with 2 Axes>"
      ]
     },
     "metadata": {
      "needs_background": "light"
     },
     "output_type": "display_data"
    }
   ],
   "source": [
    "sns.heatmap(confusion_matrix(y_test,y_pred),annot=True,fmt='3.0f',cmap=\"summer\")\n",
    "plt.title('Confusion_matrix', y=1.05, size=15)\n",
    "plt.xlabel('true label')\n",
    "plt.ylabel('predicted label')"
   ]
  },
  {
   "cell_type": "code",
   "execution_count": null,
   "id": "b1199ac7",
   "metadata": {},
   "outputs": [
    {
     "name": "stdout",
     "output_type": "stream",
     "text": [
      "              precision    recall  f1-score   support\n",
      "\n",
      "           0       1.00      0.92      0.96       943\n",
      "           1       0.94      1.00      0.97      1125\n",
      "\n",
      "    accuracy                           0.96      2068\n",
      "   macro avg       0.97      0.96      0.96      2068\n",
      "weighted avg       0.97      0.96      0.96      2068\n",
      "\n"
     ]
    }
   ],
   "source": [
    "print(metrics.classification_report(y_pred,y_test))"
   ]
  },
  {
   "cell_type": "code",
   "execution_count": null,
   "id": "4d791df4",
   "metadata": {},
   "outputs": [],
   "source": [
    "from sklearn.ensemble import RandomForestClassifier\n",
    "model = RandomForestClassifier(criterion='gini', n_estimators=700,\n",
    "                             min_samples_split=10,min_samples_leaf=1,\n",
    "                             max_features='auto',oob_score=True,\n",
    "                             random_state=1,n_jobs=-1)\n",
    "model.fit(X_train,y_train)\n",
    "y_pred_rm=model.predict(X_test)"
   ]
  },
  {
   "cell_type": "code",
   "execution_count": null,
   "id": "9a1d4ebd",
   "metadata": {},
   "outputs": [
    {
     "name": "stdout",
     "output_type": "stream",
     "text": [
      "              precision    recall  f1-score   support\n",
      "\n",
      "           0       1.00      0.99      0.99       874\n",
      "           1       0.99      1.00      1.00      1194\n",
      "\n",
      "    accuracy                           1.00      2068\n",
      "   macro avg       1.00      1.00      1.00      2068\n",
      "weighted avg       1.00      1.00      1.00      2068\n",
      "\n"
     ]
    }
   ],
   "source": [
    "print(metrics.classification_report(y_pred_rm,y_test))"
   ]
  },
  {
   "cell_type": "code",
   "execution_count": null,
   "id": "cd07ca58",
   "metadata": {},
   "outputs": [
    {
     "data": {
      "text/plain": [
       "Text(91.68, 0.5, 'predicted label')"
      ]
     },
     "execution_count": 147,
     "metadata": {},
     "output_type": "execute_result"
    },
    {
     "data": {
      "image/png": "[encoded data removed]",
      "text/plain": [
       "<Figure size 432x288 with 1 Axes>"
      ]
     },
     "metadata": {
      "needs_background": "light"
     },
     "output_type": "display_data"
    }
   ],
   "source": [
    "from sklearn.metrics import confusion_matrix\n",
    "mat=confusion_matrix(y_test,y_pred_rm)\n",
    "sns.heatmap(mat.T,square=True,annot=True,fmt='d',cbar=False)\n",
    "plt.xlabel('true label')\n",
    "plt.ylabel('predicted label')"
   ]
  },
  {
   "cell_type": "code",
   "execution_count": null,
   "id": "7045ff0a",
   "metadata": {},
   "outputs": [
    {
     "name": "stdout",
     "output_type": "stream",
     "text": [
      "[0 0 1 ... 0 1 0]\n"
     ]
    }
   ],
   "source": [
    "print(y_pred_rm)"
   ]
  },
  {
   "cell_type": "code",
   "execution_count": null,
   "id": "6e48ac1a",
   "metadata": {},
   "outputs": [],
   "source": [
    "y_pred_rm.tofile('UST22 Prediction1.csv',sep=',')"
   ]
  },
  {
   "cell_type": "code",
   "execution_count": null,
   "id": "eb6fee2c",
   "metadata": {},
   "outputs": [],
   "source": [
    "pd.DataFrame(y_test).to_csv(\"UST22-y_test.csv\")"
   ]
  },
  {
   "cell_type": "code",
   "execution_count": null,
   "id": "9da5823e",
   "metadata": {},
   "outputs": [],
   "source": []
  }
 ],
 "metadata": {
  "kernelspec": {
   "display_name": "Python 3",
   "language": "python",
   "name": "python3"
  },
  "language_info": {
   "codemirror_mode": {
    "name": "ipython",
    "version": 3
   },
   "file_extension": ".py",
   "mimetype": "text/x-python",
   "name": "python",
   "nbconvert_exporter": "python",
   "pygments_lexer": "ipython3",
   "version": "3.9.6"
  },
  "vscode": {
   "interpreter": {
    "hash": "31f2aee4e71d21fbe5cf8b01ff0e069b9275f58929596ceb00d14d90e3e16cd6"
   }
  }
 },
 "nbformat": 4,
 "nbformat_minor": 5
}
